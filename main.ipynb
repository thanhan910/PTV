{
 "cells": [
  {
   "cell_type": "code",
   "execution_count": 59,
   "metadata": {},
   "outputs": [],
   "source": [
    "import requests\n",
    "import zipfile\n",
    "import io\n",
    "import pandas as pd\n",
    "import os\n",
    "from tabulate import tabulate"
   ]
  },
  {
   "cell_type": "code",
   "execution_count": 2,
   "metadata": {},
   "outputs": [],
   "source": [
    "def process_gtfs_from_zipfile_object(main_zip_ref : zipfile.ZipFile):\n",
    "    # Create a dictionary to store all data\n",
    "    all_data = {}\n",
    "\n",
    "    # Iterate through the file list in the main GTFS ZIP\n",
    "    for file_name in main_zip_ref.namelist():\n",
    "        # Check if the item is a directory\n",
    "        if file_name.endswith('/'):\n",
    "            subdir_name = file_name.strip('/')\n",
    "            \n",
    "            # Convert the folder name to an integer\n",
    "            folder_number = int(subdir_name)\n",
    "            \n",
    "            # Look for the nested ZIP file inside the subdirectory\n",
    "            nested_zip_path = f\"{subdir_name}/google_transit.zip\"\n",
    "            \n",
    "            # Check if the nested ZIP file exists in the subdirectory\n",
    "            if nested_zip_path in main_zip_ref.namelist():\n",
    "                # Create a dictionary to store DataFrames for each folder\n",
    "                folder_data = {}\n",
    "                \n",
    "                # Extract the nested ZIP contents directly from memory\n",
    "                with main_zip_ref.open(nested_zip_path) as nested_zip_file:\n",
    "                    with zipfile.ZipFile(io.BytesIO(nested_zip_file.read())) as nested_zip_ref:\n",
    "                        nested_file_list = nested_zip_ref.namelist()\n",
    "                        for nested_file_name in nested_file_list:\n",
    "                            if nested_file_name.endswith('.txt'):\n",
    "                                with nested_zip_ref.open(nested_file_name) as nested_file:\n",
    "                                    # Read the CSV content as a Pandas DataFrame\n",
    "                                    folder_data[nested_file_name.removesuffix('.txt')] = pd.read_csv(nested_file)\n",
    "                \n",
    "                # Create a Pandas Series for the folder data\n",
    "                all_data[int(folder_number)] = pd.Series(folder_data)\n",
    "\n",
    "            else:\n",
    "                print(\"Nested ZIP file not found in\", subdir_name)\n",
    "\n",
    "    # Convert the dictionary to a Pandas Series\n",
    "    all_data = pd.Series(all_data) \n",
    "\n",
    "    # Sort the series by the folder number\n",
    "    all_data.sort_index(inplace=True)\n",
    "\n",
    "    return all_data\n",
    "\n",
    "def process_gtfs_from_url(url):\n",
    "    # Send an HTTP GET request to get the main GTFS ZIP file content\n",
    "    response = requests.get(url, stream=True)\n",
    "\n",
    "    if response.status_code == 200:\n",
    "        # Create a ZipFile object from the response content\n",
    "        with zipfile.ZipFile(io.BytesIO(response.content)) as main_zip_ref:\n",
    "            return process_gtfs_from_zipfile_object(main_zip_ref)\n",
    "\n",
    "    else:\n",
    "        print(response, \"Failed to fetch the main GTFS ZIP file.\")\n",
    "\n",
    "def process_gtfs_from_local_zip(zip_path):\n",
    "    # Create a ZipFile object from the local ZIP file\n",
    "    with zipfile.ZipFile(zip_path) as main_zip_ref:\n",
    "        return process_gtfs_from_zipfile_object(main_zip_ref)"
   ]
  },
  {
   "cell_type": "code",
   "execution_count": 3,
   "metadata": {},
   "outputs": [
    {
     "name": "stderr",
     "output_type": "stream",
     "text": [
      "C:\\Users\\An\\AppData\\Local\\Temp\\ipykernel_18440\\2324545497.py:1: FutureWarning: The default dtype for empty Series will be 'object' instead of 'float64' in a future version. Specify a dtype explicitly to silence this warning.\n",
      "  data = pd.Series()\n"
     ]
    }
   ],
   "source": [
    "data = pd.Series()\n",
    "\n",
    "for dirpath, dirnames, filenames in os.walk('downloads'):\n",
    "\n",
    "    for filename in filenames:\n",
    "        \n",
    "        gtfs_zip_file_path = os.path.join(dirpath, filename)\n",
    "        \n",
    "        gtfs_zip_parent_folder_name = gtfs_zip_file_path.split(os.sep)[-2]\n",
    "        \n",
    "        data[gtfs_zip_parent_folder_name] = process_gtfs_from_local_zip(gtfs_zip_file_path)\n",
    "\n",
    "data['main'] = process_gtfs_from_url(\"http://data.ptv.vic.gov.au/downloads/gtfs.zip\")"
   ]
  },
  {
   "cell_type": "code",
   "execution_count": 4,
   "metadata": {},
   "outputs": [
    {
     "data": {
      "text/plain": [
       "Index(['20220403_025040', '20220704_003721', '20220715_191941',\n",
       "       '20230805_030129', 'main'],\n",
       "      dtype='object')"
      ]
     },
     "execution_count": 4,
     "metadata": {},
     "output_type": "execute_result"
    }
   ],
   "source": [
    "data.keys()"
   ]
  },
  {
   "cell_type": "code",
   "execution_count": 10,
   "metadata": {},
   "outputs": [
    {
     "data": {
      "text/plain": [
       "Index(['route_id', 'agency_id', 'route_short_name', 'route_long_name',\n",
       "       'route_type', 'route_color', 'route_text_color'],\n",
       "      dtype='object')"
      ]
     },
     "execution_count": 10,
     "metadata": {},
     "output_type": "execute_result"
    }
   ],
   "source": [
    "data['20220704_003721'][2]['routes'].columns"
   ]
  },
  {
   "cell_type": "code",
   "execution_count": 84,
   "metadata": {},
   "outputs": [],
   "source": [
    "df :pd.DataFrame = data['20230805_030129'][3]['routes'].copy(deep=True)\n",
    "\n",
    "df['Demo'] =  '<span style=\"background-color:#' + df['route_color'] + ';color:#' + df['route_text_color'] + ';padding-left:5px;padding-right:5px;font-weight:bold;border-radius:2px\">' + df['route_short_name'] + '</span>'\n",
    "\n",
    "df['Color'] = \"`#\" + df['route_color'] + \"`\"\n",
    "df['Text'] = \"`#\" + df['route_text_color'] + \"`\"\n",
    "df['Name'] = df['route_short_name']\n",
    "df['Long name'] = df['route_long_name']\n",
    "markdown_table = tabulate(df[['Name', 'Long name', 'Color', 'Text', 'Demo']], showindex=False, headers='keys', tablefmt='pipe')\n",
    "with open('table.md', 'w') as f:\n",
    "    f.write(markdown_table)"
   ]
  },
  {
   "cell_type": "code",
   "execution_count": 60,
   "metadata": {},
   "outputs": [
    {
     "data": {
      "text/plain": [
       "'|    | route_id    |   agency_id | route_short_name   | route_long_name                                  |   route_type | route_color   | route_text_color   |\\n|---:|:------------|------------:|:-------------------|:-------------------------------------------------|-------------:|:--------------|:-------------------|\\n|  0 | 3-109-mjp-1 |         nan | 109                | Port Melbourne - Box Hill                        |            0 | E87722        | 000000             |\\n|  1 | 3-11-mjp-1  |         nan | 11                 | Victoria Harbour Docklands - West Preston        |            0 | 6ECEB2        | 000000             |\\n|  2 | 3-12-mjp-1  |         nan | 12                 | St Kilda (Fitzroy St) - Victoria Gardens         |            0 | 007E92        | FFFFFF             |\\n|  3 | 3-16-mjp-1  |         nan | 16                 | Melbourne University - Kew via St Kilda Beach    |            0 | FBD872        | 000000             |\\n|  4 | 3-19-mjp-1  |         nan | 19                 | Flinders Street Station, City - North Coburg     |            0 | 8A1B61        | FFFFFF             |\\n|  5 | 3-1-mjp-1   |         nan | 1                  | South Melbourne Beach - East Coburg              |            0 | B5BD00        | 000000             |\\n|  6 | 3-30-mjp-1  |         nan | 30                 | Central Pier Docklands - St Vincents Plaza       |            0 | 534F96        | FFFFFF             |\\n|  7 | 3-35-mjp-1  |         nan | 35                 | Clockwise - Clockwise                            |            0 | 6B3529        | FFFFFF             |\\n|  8 | 3-3-mjp-1   |         nan | 3/3a               | Melbourne University - East Malvern              |            0 | 8DC8E8        | 000000             |\\n|  9 | 3-48-mjp-1  |         nan | 48                 | Victoria Harbour Docklands - North Balwyn        |            0 | 333434        | FFFFFF             |\\n| 10 | 3-57-mjp-1  |         nan | 57                 | Flinders Street Station, City - West Maribyrnong |            0 | 00C1D5        | 000000             |\\n| 11 | 3-58-mjp-1  |         nan | 58                 | Toorak - West Coburg                             |            0 | 969696        | FFFFFF             |\\n| 12 | 3-59-mjp-1  |         nan | 59                 | Flinders Street Station, City - Airport West     |            0 | 00653A        | FFFFFF             |\\n| 13 | 3-5-mjp-1   |         nan | 5                  | Melbourne University - Malvern (Burke Road)      |            0 | D50032        | FFFFFF             |\\n| 14 | 3-64-mjp-1  |         nan | 64                 | Melbourne University - East Brighton             |            0 | 00AB8E        | FFFFFF             |\\n| 15 | 3-67-mjp-1  |         nan | 67                 | Melbourne University - Carnegie                  |            0 | 956C58        | FFFFFF             |\\n| 16 | 3-6-mjp-1   |         nan | 6                  | Moreland - Glen Iris                             |            0 | 01426A        | FFFFFF             |\\n| 17 | 3-70-mjp-1  |         nan | 70                 | Waterfront City Docklands - Wattle Park          |            0 | F59BBB        | 000000             |\\n| 18 | 3-72-mjp-1  |         nan | 72                 | Melbourne University - Camberwell                |            0 | 9ABEAA        | 000000             |\\n| 19 | 3-75-mjp-1  |         nan | 75                 | Central Pier Docklands - Vermont South           |            0 | 00A9E0        | 000000             |\\n| 20 | 3-78-mjp-1  |         nan | 78                 | Balaclava via Prahran - North Richmond           |            0 | A0A0D6        | 000000             |\\n| 21 | 3-82-mjp-1  |         nan | 82                 | Moonee Ponds - Footscray                         |            0 | D2D755        | 000000             |\\n| 22 | 3-86-mjp-1  |         nan | 86                 | Waterfront City Docklands - Bundoora RMIT        |            0 | FFB500        | 000000             |\\n| 23 | 3-96-mjp-1  |         nan | 96                 | St Kilda Beach - East Brunswick                  |            0 | C6007E        | FFFFFF             |'"
      ]
     },
     "execution_count": 60,
     "metadata": {},
     "output_type": "execute_result"
    }
   ],
   "source": [
    "tabulate(df, headers='keys', tablefmt='pipe')"
   ]
  },
  {
   "cell_type": "code",
   "execution_count": 93,
   "metadata": {},
   "outputs": [],
   "source": [
    "data['main'][4]['routes'].sort_values(by=['route_short_name']).to_csv('route_short_name.csv')"
   ]
  },
  {
   "cell_type": "code",
   "execution_count": null,
   "metadata": {},
   "outputs": [],
   "source": [
    "data['20220704_003721'][1]['calendar_dates'].equals(data['20220715_191941'][1]['calendar_dates'])"
   ]
  },
  {
   "cell_type": "code",
   "execution_count": null,
   "metadata": {},
   "outputs": [],
   "source": [
    "data['20220403_025040'][2]['routes']['route_color'].value_counts()"
   ]
  },
  {
   "cell_type": "code",
   "execution_count": null,
   "metadata": {},
   "outputs": [],
   "source": [
    "data['20220715_191941'][2]['routes']['route_color'].value_counts()"
   ]
  }
 ],
 "metadata": {
  "kernelspec": {
   "display_name": "Python 3",
   "language": "python",
   "name": "python3"
  },
  "language_info": {
   "codemirror_mode": {
    "name": "ipython",
    "version": 3
   },
   "file_extension": ".py",
   "mimetype": "text/x-python",
   "name": "python",
   "nbconvert_exporter": "python",
   "pygments_lexer": "ipython3",
   "version": "3.11.5"
  },
  "orig_nbformat": 4
 },
 "nbformat": 4,
 "nbformat_minor": 2
}
