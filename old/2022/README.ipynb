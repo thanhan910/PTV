{
 "cells": [
  {
   "cell_type": "markdown",
   "metadata": {},
   "source": [
    "# Melbourne Transit System Data PTV\n",
    "\n",
    "15/7/2022\n",
    "\n",
    "This project focuses on analyzing the State of Victoria's Public Transport System. (PTV).\n",
    "\n",
    "## Data source\n",
    "\n",
    "- Source: https://discover.data.vic.gov.au/dataset/timetable-and-geographic-information-gtfs\n",
    "- Download link: http://data.ptv.vic.gov.au/downloads/gtfs.zip\n"
   ]
  },
  {
   "cell_type": "code",
   "execution_count": 4,
   "metadata": {},
   "outputs": [],
   "source": [
    "import urllib.request \n",
    "import os\n",
    "import datetime\n",
    "import zipfile"
   ]
  },
  {
   "cell_type": "code",
   "execution_count": 2,
   "metadata": {},
   "outputs": [
    {
     "data": {
      "text/plain": [
       "('d:\\\\Workspace\\\\Programming\\\\Melbourne\\\\PTV\\\\downloads\\\\20230805_030129\\\\gtfs.zip',\n",
       " <http.client.HTTPMessage at 0x2530de4cf90>)"
      ]
     },
     "execution_count": 2,
     "metadata": {},
     "output_type": "execute_result"
    }
   ],
   "source": [
    "# download the gtfs.zip file\n",
    "\n",
    "# The data can be downloaded from this source: https://discover.data.vic.gov.au/dataset/timetable-and-geographic-information-gtfs\n",
    "\n",
    "# download link\n",
    "url = 'http://data.ptv.vic.gov.au/downloads/gtfs.zip'\n",
    "\n",
    "# current time\n",
    "# Since this gtfs file is often updated and is not static, there are different versions of the gtfs.zip file\n",
    "# Therefore, we need to specify the current time as a folder name to distinct the 'versions' of the downloaded files.\n",
    "current_time = datetime.datetime.now().strftime(\"%Y%m%d_%H%M%S\")\n",
    "\n",
    "# the name of the downloaded zip file\n",
    "download_to_filename = 'gtfs.zip'\n",
    "\n",
    "# the folder to store the downloaded file\n",
    "download_to_folder = os.path.join(os.getcwd(), 'downloads', current_time)\n",
    "\n",
    "if(not os.path.exists(download_to_folder)):\n",
    "    os.makedirs(download_to_folder)\n",
    "\n",
    "download_to_filepath = os.path.join(download_to_folder, download_to_filename)\n",
    "\n",
    "# download the file\n",
    "urllib.request.urlretrieve(url, download_to_filepath)\n"
   ]
  },
  {
   "cell_type": "code",
   "execution_count": null,
   "metadata": {},
   "outputs": [],
   "source": [
    "# # extract the gtfs.zip file and all zip files inside the gtfs.zip file\n",
    "\n",
    "# # First, extract the gtfs.zip file\n",
    "\n",
    "# # set the gtfs.zip file that you want to extract\n",
    "# # you can omit this if `download_to_filepath` has been defined\n",
    "# download_to_filepath = 'D:/Workspace/Melbourne/PTV/downloads/20220403_025040/gtfs.zip'\n",
    "\n",
    "# # set the folder that you want to extract the files to\n",
    "# download_to_folder = 'downloads/20220403_025040' # you can omit this if `download_to_folder` has already been defined\n"
   ]
  },
  {
   "cell_type": "code",
   "execution_count": 5,
   "metadata": {},
   "outputs": [],
   "source": [
    "\n",
    "extract_to_folder = download_to_folder.replace('downloads', 'data', 1)\n",
    "extract_to_folderpath = os.path.join(os.getcwd(), extract_to_folder)\n",
    "\n",
    "\n",
    "# extract the file\n",
    "with zipfile.ZipFile(download_to_filepath, 'r') as zip_ref:\n",
    "    zip_ref.extractall(path = extract_to_folderpath)\n",
    "\n",
    "# Next, extract all zip files inside the gtfs.zip file\n",
    "\n",
    "# this variable records if there is any zip files left to be extracted\n",
    "zip_files_still_exist = True\n",
    "\n",
    "# this list records all zip files\n",
    "# this helps records all zip files that have been extracted\n",
    "zip_files = []\n",
    "\n",
    "while(zip_files_still_exist):\n",
    "\n",
    "    zip_files_still_exist = False\n",
    "\n",
    "    for dirpath, dirnames, filenames in os.walk(extract_to_folderpath):\n",
    "\n",
    "        for f in filenames:\n",
    "\n",
    "            fpath = os.path.join(dirpath, f)\n",
    "                \n",
    "            if(f.endswith(\".zip\") and fpath not in zip_files):\n",
    "\n",
    "                zip_files.append(fpath)\n",
    "\n",
    "                zip_files_still_exist = True\n",
    "\n",
    "                # the folder path to extract the zip file to\n",
    "                folder_to_extract_to = fpath.rstrip(\".zip\")\n",
    "\n",
    "                with zipfile.ZipFile(fpath, 'r') as zip_ref:\n",
    "                    zip_ref.extractall(path=folder_to_extract_to)\n",
    "                \n",
    "                # we can delete the zip file once the zip file is extracted, in order to reduce file redundancy \n",
    "                os.remove(fpath)"
   ]
  },
  {
   "cell_type": "markdown",
   "metadata": {},
   "source": [
    "## Data explanation\n",
    "\n",
    "You can learn about the meaning of the data here: https://developers.google.com/transit/gtfs/reference\n",
    "\n",
    "### Services\n",
    "\n",
    "| Number | Service Type |\n",
    "| - | - |\n",
    "| `1` | Regional Train |\n",
    "| `2` | Train |\n",
    "| `3` | Tram |\n",
    "| `4` | Bus |\n",
    "| `5` | Regional Coach |\n",
    "| `6` | Regional Bus |\n",
    "| `7` | |\n",
    "| `8` | |\n",
    "| `10` | Airport SkyTrain |\n",
    "| `11` | Airport SkyBus |\n",
    "\n",
    "### Tables\n",
    "\n",
    "#### Primary keys\n",
    "\n",
    "The primary keys listed below are not official; they are actually assumed from my analysis of the tables. To determine if a column can be a primary key, I checked whether or not the values of each key are unique in each table or not.\n",
    "\n",
    "| Table | Keys |\n",
    "| - | - |\n",
    "| `agency` | `agency_id` |\n",
    "| `calendar`| `service_id` |\n",
    "| `calendar_dates`| `service_id`, `date` |\n",
    "| `routes`| `route_id` |\n",
    "| `shapes`| `shape_id`, `shape_pt_sequence` |\n",
    "| `stops`| `stop_id` |\n",
    "| `stop_times`| `trip_id` , `stop_sequence` |\n",
    "| `trips` | `trip_id` |"
   ]
  }
 ],
 "metadata": {
  "kernelspec": {
   "display_name": "Python 3.10.5 64-bit",
   "language": "python",
   "name": "python3"
  },
  "language_info": {
   "codemirror_mode": {
    "name": "ipython",
    "version": 3
   },
   "file_extension": ".py",
   "mimetype": "text/x-python",
   "name": "python",
   "nbconvert_exporter": "python",
   "pygments_lexer": "ipython3",
   "version": "3.11.3"
  },
  "orig_nbformat": 4,
  "vscode": {
   "interpreter": {
    "hash": "b90673a6e577687c90cf3083efc415812cfd52649af0b92eddb1bc4edde00bcd"
   }
  }
 },
 "nbformat": 4,
 "nbformat_minor": 2
}
