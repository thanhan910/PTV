{
 "cells": [
  {
   "cell_type": "code",
   "execution_count": 1,
   "metadata": {},
   "outputs": [],
   "source": [
    "import pyptvgtfs\n",
    "import pandas as pd\n",
    "import os"
   ]
  },
  {
   "cell_type": "code",
   "execution_count": 2,
   "metadata": {},
   "outputs": [],
   "source": [
    "VERSIONS = ['20220403_025040',\n",
    "'20220715_191941',\n",
    "'20230805_030129',\n",
    "'20231202_053358',\n",
    "'20240229_224711',]"
   ]
  },
  {
   "cell_type": "code",
   "execution_count": 3,
   "metadata": {},
   "outputs": [],
   "source": [
    "DFS = [pyptvgtfs.process_gtfs_zip(f'../downloads/{f}/gtfs.zip', f) for f in VERSIONS]\n",
    "# Per file: 40s - 1m - 3m. 5 files: 2m - 5m"
   ]
  },
  {
   "cell_type": "code",
   "execution_count": 4,
   "metadata": {},
   "outputs": [],
   "source": [
    "DFK = pd.concat(DFS, axis=0).set_index(['version_id', 'branch_id', 'table_name'])['df'].to_dict()"
   ]
  },
  {
   "cell_type": "code",
   "execution_count": 13,
   "metadata": {},
   "outputs": [],
   "source": [
    "VERSIONS_2023 = ['20231021_105623',\n",
    "'20231021_105623',\n",
    "'20231030_224547',\n",
    "'20231107_012112',\n",
    "'20231113_155410',\n",
    "'20231122_000348',\n",
    "'20231130_234004',]\n",
    "DFS_2023 = [pyptvgtfs.process_gtfs_zip(f'../downloads/{f}/gtfs.zip', f) for f in VERSIONS_2023]\n",
    "# Per file: 40s - 1m - 3m. 5 files: 2m - 5m. 7 files: 3m - 5sm"
   ]
  },
  {
   "cell_type": "code",
   "execution_count": 22,
   "metadata": {},
   "outputs": [],
   "source": [
    "VERSIONS_2023_24 = ['20231225_101846', '20240130_030040']\n",
    "DFS_2023_24 = [pyptvgtfs.process_gtfs_zip(f'../downloads/{f}/gtfs.zip', f) for f in VERSIONS_2023_24]\n",
    "# Per file: 40s - 1m - 3m. 5 files: 2m - 5m. 7 files: 3m - 5sm. 2 files: 1m 30s - 2m"
   ]
  },
  {
   "cell_type": "code",
   "execution_count": 23,
   "metadata": {},
   "outputs": [],
   "source": [
    "DFK : dict[tuple, pd.DataFrame] = pd.concat(DFS_2023 + DFS + DFS_2023_24, axis=0).set_index(['version_id', 'branch_id', 'table_name'])['df'].to_dict()"
   ]
  },
  {
   "cell_type": "code",
   "execution_count": 54,
   "metadata": {},
   "outputs": [
    {
     "data": {
      "text/html": [
       "<div>\n",
       "<style scoped>\n",
       "    .dataframe tbody tr th:only-of-type {\n",
       "        vertical-align: middle;\n",
       "    }\n",
       "\n",
       "    .dataframe tbody tr th {\n",
       "        vertical-align: top;\n",
       "    }\n",
       "\n",
       "    .dataframe thead th {\n",
       "        text-align: right;\n",
       "    }\n",
       "</style>\n",
       "<table border=\"1\" class=\"dataframe\">\n",
       "  <thead>\n",
       "    <tr style=\"text-align: right;\">\n",
       "      <th></th>\n",
       "      <th>route_id</th>\n",
       "      <th>service_id</th>\n",
       "      <th>trip_id</th>\n",
       "      <th>shape_id</th>\n",
       "      <th>trip_headsign</th>\n",
       "      <th>direction_id</th>\n",
       "    </tr>\n",
       "  </thead>\n",
       "  <tbody>\n",
       "    <tr>\n",
       "      <th>0</th>\n",
       "      <td>2-ain-mjp-2</td>\n",
       "      <td>T2</td>\n",
       "      <td>1.T2.2-ain-mjp-2.1.H</td>\n",
       "      <td>2-ain-mjp-2.1.H</td>\n",
       "      <td>Showgrounds/Flemington</td>\n",
       "      <td>0</td>\n",
       "    </tr>\n",
       "    <tr>\n",
       "      <th>1</th>\n",
       "      <td>2-ain-mjp-2</td>\n",
       "      <td>T3</td>\n",
       "      <td>1.T3.2-ain-mjp-2.4.R</td>\n",
       "      <td>2-ain-mjp-2.4.R</td>\n",
       "      <td>Flinders Street</td>\n",
       "      <td>1</td>\n",
       "    </tr>\n",
       "    <tr>\n",
       "      <th>2</th>\n",
       "      <td>2-ain-mjp-2</td>\n",
       "      <td>T2</td>\n",
       "      <td>10.T2.2-ain-mjp-2.2.H</td>\n",
       "      <td>2-ain-mjp-2.2.H</td>\n",
       "      <td>Showgrounds/Flemington</td>\n",
       "      <td>0</td>\n",
       "    </tr>\n",
       "    <tr>\n",
       "      <th>3</th>\n",
       "      <td>2-ain-mjp-2</td>\n",
       "      <td>T2</td>\n",
       "      <td>11.T2.2-ain-mjp-2.2.H</td>\n",
       "      <td>2-ain-mjp-2.2.H</td>\n",
       "      <td>Showgrounds/Flemington</td>\n",
       "      <td>0</td>\n",
       "    </tr>\n",
       "    <tr>\n",
       "      <th>4</th>\n",
       "      <td>2-ain-mjp-2</td>\n",
       "      <td>T2</td>\n",
       "      <td>12.T2.2-ain-mjp-2.2.H</td>\n",
       "      <td>2-ain-mjp-2.2.H</td>\n",
       "      <td>Showgrounds/Flemington</td>\n",
       "      <td>0</td>\n",
       "    </tr>\n",
       "  </tbody>\n",
       "</table>\n",
       "</div>"
      ],
      "text/plain": [
       "      route_id service_id                trip_id         shape_id  \\\n",
       "0  2-ain-mjp-2         T2   1.T2.2-ain-mjp-2.1.H  2-ain-mjp-2.1.H   \n",
       "1  2-ain-mjp-2         T3   1.T3.2-ain-mjp-2.4.R  2-ain-mjp-2.4.R   \n",
       "2  2-ain-mjp-2         T2  10.T2.2-ain-mjp-2.2.H  2-ain-mjp-2.2.H   \n",
       "3  2-ain-mjp-2         T2  11.T2.2-ain-mjp-2.2.H  2-ain-mjp-2.2.H   \n",
       "4  2-ain-mjp-2         T2  12.T2.2-ain-mjp-2.2.H  2-ain-mjp-2.2.H   \n",
       "\n",
       "            trip_headsign  direction_id  \n",
       "0  Showgrounds/Flemington             0  \n",
       "1         Flinders Street             1  \n",
       "2  Showgrounds/Flemington             0  \n",
       "3  Showgrounds/Flemington             0  \n",
       "4  Showgrounds/Flemington             0  "
      ]
     },
     "execution_count": 54,
     "metadata": {},
     "output_type": "execute_result"
    }
   ],
   "source": [
    "DFK['20230805_030129', '4', 'trips'].head()"
   ]
  },
  {
   "cell_type": "code",
   "execution_count": 55,
   "metadata": {},
   "outputs": [
    {
     "data": {
      "text/html": [
       "<div>\n",
       "<style scoped>\n",
       "    .dataframe tbody tr th:only-of-type {\n",
       "        vertical-align: middle;\n",
       "    }\n",
       "\n",
       "    .dataframe tbody tr th {\n",
       "        vertical-align: top;\n",
       "    }\n",
       "\n",
       "    .dataframe thead th {\n",
       "        text-align: right;\n",
       "    }\n",
       "</style>\n",
       "<table border=\"1\" class=\"dataframe\">\n",
       "  <thead>\n",
       "    <tr style=\"text-align: right;\">\n",
       "      <th></th>\n",
       "      <th>route_id</th>\n",
       "      <th>service_id</th>\n",
       "      <th>trip_id</th>\n",
       "      <th>shape_id</th>\n",
       "      <th>trip_headsign</th>\n",
       "      <th>direction_id</th>\n",
       "    </tr>\n",
       "  </thead>\n",
       "  <tbody>\n",
       "    <tr>\n",
       "      <th>0</th>\n",
       "      <td>2-ain-mjp-2</td>\n",
       "      <td>T2</td>\n",
       "      <td>1.T2.2-ain-mjp-2.3.R</td>\n",
       "      <td>2-ain-mjp-2.3.R</td>\n",
       "      <td>Flinders Street</td>\n",
       "      <td>1</td>\n",
       "    </tr>\n",
       "    <tr>\n",
       "      <th>1</th>\n",
       "      <td>2-ain-mjp-2</td>\n",
       "      <td>T3</td>\n",
       "      <td>1.T3.2-ain-mjp-2.2.R</td>\n",
       "      <td>2-ain-mjp-2.2.R</td>\n",
       "      <td>Flinders Street</td>\n",
       "      <td>1</td>\n",
       "    </tr>\n",
       "    <tr>\n",
       "      <th>2</th>\n",
       "      <td>2-ain-mjp-4</td>\n",
       "      <td>T2_1</td>\n",
       "      <td>1.T2.2-ain-mjp-4.2.R</td>\n",
       "      <td>2-ain-mjp-4.2.R</td>\n",
       "      <td>Flinders Street</td>\n",
       "      <td>1</td>\n",
       "    </tr>\n",
       "    <tr>\n",
       "      <th>3</th>\n",
       "      <td>2-ain-mjp-4</td>\n",
       "      <td>T3_1</td>\n",
       "      <td>1.T3.2-ain-mjp-4.1.R</td>\n",
       "      <td>2-ain-mjp-4.1.R</td>\n",
       "      <td>Flinders Street</td>\n",
       "      <td>1</td>\n",
       "    </tr>\n",
       "    <tr>\n",
       "      <th>4</th>\n",
       "      <td>2-ain-mjp-5</td>\n",
       "      <td>T2_3</td>\n",
       "      <td>1.T2.2-ain-mjp-5.2.R</td>\n",
       "      <td>2-ain-mjp-5.2.R</td>\n",
       "      <td>Flinders Street</td>\n",
       "      <td>1</td>\n",
       "    </tr>\n",
       "  </tbody>\n",
       "</table>\n",
       "</div>"
      ],
      "text/plain": [
       "      route_id service_id               trip_id         shape_id  \\\n",
       "0  2-ain-mjp-2         T2  1.T2.2-ain-mjp-2.3.R  2-ain-mjp-2.3.R   \n",
       "1  2-ain-mjp-2         T3  1.T3.2-ain-mjp-2.2.R  2-ain-mjp-2.2.R   \n",
       "2  2-ain-mjp-4       T2_1  1.T2.2-ain-mjp-4.2.R  2-ain-mjp-4.2.R   \n",
       "3  2-ain-mjp-4       T3_1  1.T3.2-ain-mjp-4.1.R  2-ain-mjp-4.1.R   \n",
       "4  2-ain-mjp-5       T2_3  1.T2.2-ain-mjp-5.2.R  2-ain-mjp-5.2.R   \n",
       "\n",
       "     trip_headsign  direction_id  \n",
       "0  Flinders Street             1  \n",
       "1  Flinders Street             1  \n",
       "2  Flinders Street             1  \n",
       "3  Flinders Street             1  \n",
       "4  Flinders Street             1  "
      ]
     },
     "execution_count": 55,
     "metadata": {},
     "output_type": "execute_result"
    }
   ],
   "source": [
    "DFK['20231021_105623', '4', 'trips'].head()"
   ]
  },
  {
   "cell_type": "code",
   "execution_count": null,
   "metadata": {},
   "outputs": [],
   "source": [
    "# It seems that after at least August 2023 and since at least October 2023, the service_id for buses ('4') has changed from normal service names like all others (T2_1) to specific service names to each route (MF1-12-831-aus). For trip id, before, it's 2-831--2-T2-1, now, it's 12-831--1-MF1-102. Seems like the format of trip_ids in 4 (use '-' instead of '.') being different from other operation branches (1,2...) is still consistent among versions."
   ]
  }
 ],
 "metadata": {
  "kernelspec": {
   "display_name": "Python 3",
   "language": "python",
   "name": "python3"
  },
  "language_info": {
   "codemirror_mode": {
    "name": "ipython",
    "version": 3
   },
   "file_extension": ".py",
   "mimetype": "text/x-python",
   "name": "python",
   "nbconvert_exporter": "python",
   "pygments_lexer": "ipython3",
   "version": "3.12.0"
  }
 },
 "nbformat": 4,
 "nbformat_minor": 2
}
