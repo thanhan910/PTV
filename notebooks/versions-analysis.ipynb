{
 "cells": [
  {
   "cell_type": "code",
   "execution_count": 1,
   "metadata": {},
   "outputs": [],
   "source": [
    "import pyptvgtfs\n",
    "import pandas as pd\n",
    "import os"
   ]
  },
  {
   "cell_type": "code",
   "execution_count": 2,
   "metadata": {},
   "outputs": [],
   "source": [
    "VERSIONS = ['20220403_025040',\n",
    "'20220715_191941',\n",
    "'20230805_030129',\n",
    "'20231202_053358',\n",
    "'20240229_224711',]"
   ]
  },
  {
   "cell_type": "code",
   "execution_count": 3,
   "metadata": {},
   "outputs": [],
   "source": [
    "DFS = [pyptvgtfs.process_gtfs_zip(f'../downloads/{f}/gtfs.zip', f) for f in VERSIONS]\n",
    "# Per file: 40s - 1m - 3m. 5 files: 2m - 5m"
   ]
  },
  {
   "cell_type": "code",
   "execution_count": 4,
   "metadata": {},
   "outputs": [],
   "source": [
    "DFK = pd.concat(DFS, axis=0).set_index(['version_id', 'branch_id', 'table_name'])['df'].to_dict()"
   ]
  },
  {
   "cell_type": "code",
   "execution_count": 13,
   "metadata": {},
   "outputs": [],
   "source": [
    "VERSIONS_2023 = ['20231021_105623',\n",
    "'20231021_105623',\n",
    "'20231030_224547',\n",
    "'20231107_012112',\n",
    "'20231113_155410',\n",
    "'20231122_000348',\n",
    "'20231130_234004',]\n",
    "DFS_2023 = [pyptvgtfs.process_gtfs_zip(f'../downloads/{f}/gtfs.zip', f) for f in VERSIONS_2023]\n",
    "# Per file: 40s - 1m - 3m. 5 files: 2m - 5m. 7 files: 3m - 5sm"
   ]
  },
  {
   "cell_type": "code",
   "execution_count": 22,
   "metadata": {},
   "outputs": [],
   "source": [
    "VERSIONS_2023_24 = ['20231225_101846', '20240130_030040']\n",
    "DFS_2023_24 = [pyptvgtfs.process_gtfs_zip(f'../downloads/{f}/gtfs.zip', f) for f in VERSIONS_2023_24]\n",
    "# Per file: 40s - 1m - 3m. 5 files: 2m - 5m. 7 files: 3m - 5sm. 2 files: 1m 30s - 2m"
   ]
  },
  {
   "cell_type": "code",
   "execution_count": 58,
   "metadata": {},
   "outputs": [],
   "source": [
    "DFK : dict[tuple, pd.DataFrame] = pd.concat(DFS_2023 + DFS + DFS_2023_24, axis=0).set_index(['version_id', 'branch_id', 'table_name'])['df'].to_dict()\n",
    "VERSIONS = sorted(list(set(VERSIONS_2023 + VERSIONS + VERSIONS_2023_24)))"
   ]
  },
  {
   "cell_type": "code",
   "execution_count": 61,
   "metadata": {},
   "outputs": [
    {
     "data": {
      "text/html": [
       "<div>\n",
       "<style scoped>\n",
       "    .dataframe tbody tr th:only-of-type {\n",
       "        vertical-align: middle;\n",
       "    }\n",
       "\n",
       "    .dataframe tbody tr th {\n",
       "        vertical-align: top;\n",
       "    }\n",
       "\n",
       "    .dataframe thead th {\n",
       "        text-align: right;\n",
       "    }\n",
       "</style>\n",
       "<table border=\"1\" class=\"dataframe\">\n",
       "  <thead>\n",
       "    <tr style=\"text-align: right;\">\n",
       "      <th></th>\n",
       "      <th>route_id</th>\n",
       "      <th>service_id</th>\n",
       "      <th>trip_id</th>\n",
       "      <th>shape_id</th>\n",
       "      <th>trip_headsign</th>\n",
       "      <th>direction_id</th>\n",
       "    </tr>\n",
       "  </thead>\n",
       "  <tbody>\n",
       "    <tr>\n",
       "      <th>0</th>\n",
       "      <td>12-831-aus-2</td>\n",
       "      <td>T2_1</td>\n",
       "      <td>12-831--2-T2-1</td>\n",
       "      <td>12-831-aus-2.1.H</td>\n",
       "      <td>Kingsmere Estate</td>\n",
       "      <td>0</td>\n",
       "    </tr>\n",
       "    <tr>\n",
       "      <th>1</th>\n",
       "      <td>12-831-aus-2</td>\n",
       "      <td>T2_1</td>\n",
       "      <td>12-831--2-T2-10</td>\n",
       "      <td>12-831-aus-2.1.H</td>\n",
       "      <td>Kingsmere Estate</td>\n",
       "      <td>0</td>\n",
       "    </tr>\n",
       "    <tr>\n",
       "      <th>2</th>\n",
       "      <td>12-831-aus-2</td>\n",
       "      <td>T2_1</td>\n",
       "      <td>12-831--2-T2-11</td>\n",
       "      <td>12-831-aus-2.1.H</td>\n",
       "      <td>Kingsmere Estate</td>\n",
       "      <td>0</td>\n",
       "    </tr>\n",
       "    <tr>\n",
       "      <th>3</th>\n",
       "      <td>12-831-aus-2</td>\n",
       "      <td>T2_1</td>\n",
       "      <td>12-831--2-T2-12</td>\n",
       "      <td>12-831-aus-2.1.H</td>\n",
       "      <td>Kingsmere Estate</td>\n",
       "      <td>0</td>\n",
       "    </tr>\n",
       "    <tr>\n",
       "      <th>4</th>\n",
       "      <td>12-831-aus-2</td>\n",
       "      <td>T2_1</td>\n",
       "      <td>12-831--2-T2-13</td>\n",
       "      <td>12-831-aus-2.1.H</td>\n",
       "      <td>Kingsmere Estate</td>\n",
       "      <td>0</td>\n",
       "    </tr>\n",
       "  </tbody>\n",
       "</table>\n",
       "</div>"
      ],
      "text/plain": [
       "       route_id service_id          trip_id          shape_id  \\\n",
       "0  12-831-aus-2       T2_1   12-831--2-T2-1  12-831-aus-2.1.H   \n",
       "1  12-831-aus-2       T2_1  12-831--2-T2-10  12-831-aus-2.1.H   \n",
       "2  12-831-aus-2       T2_1  12-831--2-T2-11  12-831-aus-2.1.H   \n",
       "3  12-831-aus-2       T2_1  12-831--2-T2-12  12-831-aus-2.1.H   \n",
       "4  12-831-aus-2       T2_1  12-831--2-T2-13  12-831-aus-2.1.H   \n",
       "\n",
       "      trip_headsign  direction_id  \n",
       "0  Kingsmere Estate             0  \n",
       "1  Kingsmere Estate             0  \n",
       "2  Kingsmere Estate             0  \n",
       "3  Kingsmere Estate             0  \n",
       "4  Kingsmere Estate             0  "
      ]
     },
     "execution_count": 61,
     "metadata": {},
     "output_type": "execute_result"
    }
   ],
   "source": [
    "DFK['20230805_030129', '4', 'trips'].head()"
   ]
  },
  {
   "cell_type": "code",
   "execution_count": 62,
   "metadata": {},
   "outputs": [
    {
     "data": {
      "text/html": [
       "<div>\n",
       "<style scoped>\n",
       "    .dataframe tbody tr th:only-of-type {\n",
       "        vertical-align: middle;\n",
       "    }\n",
       "\n",
       "    .dataframe tbody tr th {\n",
       "        vertical-align: top;\n",
       "    }\n",
       "\n",
       "    .dataframe thead th {\n",
       "        text-align: right;\n",
       "    }\n",
       "</style>\n",
       "<table border=\"1\" class=\"dataframe\">\n",
       "  <thead>\n",
       "    <tr style=\"text-align: right;\">\n",
       "      <th></th>\n",
       "      <th>route_id</th>\n",
       "      <th>service_id</th>\n",
       "      <th>trip_id</th>\n",
       "      <th>shape_id</th>\n",
       "      <th>trip_headsign</th>\n",
       "      <th>direction_id</th>\n",
       "    </tr>\n",
       "  </thead>\n",
       "  <tbody>\n",
       "    <tr>\n",
       "      <th>0</th>\n",
       "      <td>12-831-aus-1</td>\n",
       "      <td>MF1-12-831-aus</td>\n",
       "      <td>12-831--1-MF1-102</td>\n",
       "      <td>12-831-aus-1.3.H</td>\n",
       "      <td>Kingsmere Estate</td>\n",
       "      <td>0</td>\n",
       "    </tr>\n",
       "    <tr>\n",
       "      <th>1</th>\n",
       "      <td>12-831-aus-1</td>\n",
       "      <td>MF1-12-831-aus</td>\n",
       "      <td>12-831--1-MF1-104</td>\n",
       "      <td>12-831-aus-1.3.H</td>\n",
       "      <td>Kingsmere Estate</td>\n",
       "      <td>0</td>\n",
       "    </tr>\n",
       "    <tr>\n",
       "      <th>2</th>\n",
       "      <td>12-831-aus-1</td>\n",
       "      <td>MF1-12-831-aus</td>\n",
       "      <td>12-831--1-MF1-106</td>\n",
       "      <td>12-831-aus-1.3.H</td>\n",
       "      <td>Kingsmere Estate</td>\n",
       "      <td>0</td>\n",
       "    </tr>\n",
       "    <tr>\n",
       "      <th>3</th>\n",
       "      <td>12-831-aus-1</td>\n",
       "      <td>MF1-12-831-aus</td>\n",
       "      <td>12-831--1-MF1-108</td>\n",
       "      <td>12-831-aus-1.3.H</td>\n",
       "      <td>Kingsmere Estate</td>\n",
       "      <td>0</td>\n",
       "    </tr>\n",
       "    <tr>\n",
       "      <th>4</th>\n",
       "      <td>12-831-aus-1</td>\n",
       "      <td>MF1-12-831-aus</td>\n",
       "      <td>12-831--1-MF1-110</td>\n",
       "      <td>12-831-aus-1.3.H</td>\n",
       "      <td>Kingsmere Estate</td>\n",
       "      <td>0</td>\n",
       "    </tr>\n",
       "  </tbody>\n",
       "</table>\n",
       "</div>"
      ],
      "text/plain": [
       "       route_id      service_id            trip_id          shape_id  \\\n",
       "0  12-831-aus-1  MF1-12-831-aus  12-831--1-MF1-102  12-831-aus-1.3.H   \n",
       "1  12-831-aus-1  MF1-12-831-aus  12-831--1-MF1-104  12-831-aus-1.3.H   \n",
       "2  12-831-aus-1  MF1-12-831-aus  12-831--1-MF1-106  12-831-aus-1.3.H   \n",
       "3  12-831-aus-1  MF1-12-831-aus  12-831--1-MF1-108  12-831-aus-1.3.H   \n",
       "4  12-831-aus-1  MF1-12-831-aus  12-831--1-MF1-110  12-831-aus-1.3.H   \n",
       "\n",
       "      trip_headsign  direction_id  \n",
       "0  Kingsmere Estate             0  \n",
       "1  Kingsmere Estate             0  \n",
       "2  Kingsmere Estate             0  \n",
       "3  Kingsmere Estate             0  \n",
       "4  Kingsmere Estate             0  "
      ]
     },
     "execution_count": 62,
     "metadata": {},
     "output_type": "execute_result"
    }
   ],
   "source": [
    "DFK['20231021_105623', '4', 'trips'].head()"
   ]
  },
  {
   "cell_type": "code",
   "execution_count": null,
   "metadata": {},
   "outputs": [],
   "source": [
    "# It seems that after at least August 2023 and since at least October 2023, the service_id for buses ('4') has changed from normal service names like all others (T2_1) to specific service names to each route (MF1-12-831-aus). For trip id, before, it's 2-831--2-T2-1, now, it's 12-831--1-MF1-102. Seems like the format of trip_ids in 4 (use '-' instead of '.') being different from other operation branches (1,2...) is still consistent among versions.\n",
    "# On one hand this change makes 'calendar' and 'calendar_dates' tables become longer, have more redundant data points, and the service_id becomes longer. On the other hand, more specific service patterns to each route can be more informative and useful for table joining or querying about the service time of one specific route.\n",
    "# The change might make the 'trips table becomes somewhat longer, but an analysis of trips len for opbranch=4 for each version shows that length of trips table was not significantly too different."
   ]
  },
  {
   "cell_type": "code",
   "execution_count": 60,
   "metadata": {},
   "outputs": [
    {
     "name": "stdout",
     "output_type": "stream",
     "text": [
      "20220403_025040 190121\n",
      "20220715_191941 81084\n",
      "20230805_030129 54201\n",
      "20231021_105623 97470\n",
      "20231030_224547 97470\n",
      "20231107_012112 106648\n",
      "20231113_155410 82154\n",
      "20231122_000348 83132\n",
      "20231130_234004 80758\n",
      "20231202_053358 105405\n",
      "20231225_101846 195592\n",
      "20240130_030040 137615\n",
      "20240229_224711 124318\n"
     ]
    }
   ],
   "source": [
    "for version in VERSIONS:\n",
    "    print(version, len(DFK[version, '4', 'trips']))\n",
    "        "
   ]
  }
 ],
 "metadata": {
  "kernelspec": {
   "display_name": "Python 3",
   "language": "python",
   "name": "python3"
  },
  "language_info": {
   "codemirror_mode": {
    "name": "ipython",
    "version": 3
   },
   "file_extension": ".py",
   "mimetype": "text/x-python",
   "name": "python",
   "nbconvert_exporter": "python",
   "pygments_lexer": "ipython3",
   "version": "3.12.0"
  }
 },
 "nbformat": 4,
 "nbformat_minor": 2
}
