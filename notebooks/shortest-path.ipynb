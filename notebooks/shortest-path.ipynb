{
 "cells": [
  {
   "cell_type": "code",
   "execution_count": 1,
   "metadata": {},
   "outputs": [],
   "source": [
    "import pandas as pd\n",
    "import numpy as np\n",
    "import psycopg2\n",
    "import os\n",
    "from sqlalchemy import create_engine, text\n",
    "from sqlalchemy.orm import sessionmaker\n",
    "from sqlalchemy.ext.declarative import declarative_base"
   ]
  },
  {
   "cell_type": "code",
   "execution_count": 2,
   "metadata": {},
   "outputs": [],
   "source": [
    "conn = psycopg2.connect(\n",
    "    dbname=\"vmtrans\",\n",
    "    user=\"postgres\",\n",
    "    password=\"postgres\",\n",
    "    host=\"localhost\",\n",
    "    port=\"5432\"\n",
    ")\n",
    "conn.autocommit = True\n",
    "cursor = conn.cursor()"
   ]
  },
  {
   "cell_type": "code",
   "execution_count": 49,
   "metadata": {},
   "outputs": [
    {
     "data": {
      "text/html": [
       "<div>\n",
       "<style scoped>\n",
       "    .dataframe tbody tr th:only-of-type {\n",
       "        vertical-align: middle;\n",
       "    }\n",
       "\n",
       "    .dataframe tbody tr th {\n",
       "        vertical-align: top;\n",
       "    }\n",
       "\n",
       "    .dataframe thead th {\n",
       "        text-align: right;\n",
       "    }\n",
       "</style>\n",
       "<table border=\"1\" class=\"dataframe\">\n",
       "  <thead>\n",
       "    <tr style=\"text-align: right;\">\n",
       "      <th></th>\n",
       "      <th>ufi</th>\n",
       "      <th>from_ufi</th>\n",
       "      <th>to_ufi</th>\n",
       "      <th>ezi_rdname</th>\n",
       "      <th>dir_code</th>\n",
       "      <th>vecaccess</th>\n",
       "      <th>ht_limit</th>\n",
       "      <th>restrictn</th>\n",
       "      <th>geom</th>\n",
       "      <th>length_of_multilinestring</th>\n",
       "      <th>start_lon</th>\n",
       "      <th>start_lat</th>\n",
       "      <th>end_lon</th>\n",
       "      <th>end_lat</th>\n",
       "    </tr>\n",
       "  </thead>\n",
       "  <tbody>\n",
       "    <tr>\n",
       "      <th>0</th>\n",
       "      <td>57676251.0</td>\n",
       "      <td>15536670.0</td>\n",
       "      <td>2354853.0</td>\n",
       "      <td>GLENBROOK AVENUE</td>\n",
       "      <td>B</td>\n",
       "      <td>1</td>\n",
       "      <td>0.0</td>\n",
       "      <td>None</td>\n",
       "      <td>MULTILINESTRING((145.12310854800012 -37.911575...</td>\n",
       "      <td>364.743985</td>\n",
       "      <td>145.123109</td>\n",
       "      <td>-37.911576</td>\n",
       "      <td>145.123872</td>\n",
       "      <td>-37.909116</td>\n",
       "    </tr>\n",
       "  </tbody>\n",
       "</table>\n",
       "</div>"
      ],
      "text/plain": [
       "          ufi    from_ufi     to_ufi        ezi_rdname dir_code vecaccess  \\\n",
       "0  57676251.0  15536670.0  2354853.0  GLENBROOK AVENUE        B         1   \n",
       "\n",
       "   ht_limit restrictn                                               geom  \\\n",
       "0       0.0      None  MULTILINESTRING((145.12310854800012 -37.911575...   \n",
       "\n",
       "   length_of_multilinestring   start_lon  start_lat     end_lon    end_lat  \n",
       "0                 364.743985  145.123109 -37.911576  145.123872 -37.909116  "
      ]
     },
     "execution_count": 49,
     "metadata": {},
     "output_type": "execute_result"
    }
   ],
   "source": [
    "def find_nearest_segment(cursor : psycopg2.extensions.cursor, lat, lon, point_srid=4326, segment_srid=7844, limit=1):\n",
    "    # ST_X(ST_StartPoint(geom)) AS start_lon,\n",
    "    #     ST_Y(ST_StartPoint(geom)) AS start_lat, \n",
    "    # ORDER BY geom <-> ST_Transform(ST_SetSRID(ST_MakePoint(%(lon)s, %(lat)s), %(point_srid)s), %(segment_srid)s)\n",
    "    # ST_Distance(ST_ClosestPoint(geom, 'POINT(%(lon)s %(lat)s)'), 'POINT(%(lon)s %(lat)s)')\n",
    "    # ST_Distance(ST_ClosestPoint(geom, ST_Transform(ST_SetSRID(ST_MakePoint(%(lon)s, %(lat)s), %(point_srid)s), %(segment_srid)s)), ST_Transform(ST_SetSRID(ST_MakePoint(%(lon)s, %(lat)s), %(point_srid)s), %(segment_srid)s))\n",
    "    sql = \"\"\"\n",
    "    SELECT \n",
    "        ufi, from_ufi, to_ufi, ezi_rdname, dir_code, vecaccess, ht_limit, restrictn, \n",
    "        ST_AsText(geom) AS geom, \n",
    "        ST_Length(ST_Transform(geom, 3857)) AS length_of_multilinestring,\n",
    "        ST_X(ST_StartPoint(ST_GeometryN(geom, 1))) AS start_lon,\n",
    "        ST_Y(ST_StartPoint(ST_GeometryN(geom, 1))) AS start_lat,\n",
    "        CASE\n",
    "            WHEN ST_NumGeometries(geom) = 1 AND ST_NumPoints(ST_GeometryN(geom, 1)) > 1 THEN\n",
    "                ST_X(ST_EndPoint(ST_GeometryN(geom, 1)))\n",
    "            WHEN ST_NumGeometries(geom) > 1 THEN\n",
    "                ST_X(ST_EndPoint(ST_GeometryN(geom, ST_NumGeometries(geom))))\n",
    "            ELSE\n",
    "                ST_X(ST_StartPoint(ST_GeometryN(geom, 1)))\n",
    "        END AS end_lon,\n",
    "        CASE\n",
    "            WHEN ST_NumGeometries(geom) = 1 AND ST_NumPoints(ST_GeometryN(geom, 1)) > 1 THEN\n",
    "                ST_Y(ST_EndPoint(ST_GeometryN(geom, 1)))\n",
    "            WHEN ST_NumGeometries(geom) > 1 THEN\n",
    "                ST_Y(ST_EndPoint(ST_GeometryN(geom, ST_NumGeometries(geom))))\n",
    "            ELSE\n",
    "                ST_Y(ST_StartPoint(ST_GeometryN(geom, 1)))\n",
    "        END AS end_lat\n",
    "    FROM \n",
    "        tr_road_all\n",
    "    ORDER BY \n",
    "        ST_Distance(ST_ClosestPoint(geom, ST_SetSRID(ST_MakePoint(%(lon)s, %(lat)s), %(segment_srid)s)), ST_SetSRID(ST_MakePoint(%(lon)s, %(lat)s), %(segment_srid)s))\n",
    "    LIMIT %(limit)s;\n",
    "    \"\"\"\n",
    "    cursor.execute(sql, {\"lat\": lat, \"lon\": lon, \"point_srid\": point_srid, \"segment_srid\": segment_srid, \"limit\": limit})\n",
    "    result = cursor.fetchall()\n",
    "    column_names = [desc[0] for desc in cursor.description]\n",
    "    return result, column_names, cursor.query\n",
    "result, column_names, query = find_nearest_segment(cursor, -37.91131680842784, 145.12310223093516)\n",
    "df = pd.DataFrame(result, columns=column_names)\n",
    "# Get geom coordinates\n",
    "df\n"
   ]
  },
  {
   "cell_type": "code",
   "execution_count": 50,
   "metadata": {},
   "outputs": [
    {
     "data": {
      "text/plain": [
       "b'\\n    SELECT \\n        ufi, from_ufi, to_ufi, ezi_rdname, dir_code, vecaccess, ht_limit, restrictn, \\n        ST_AsText(geom) AS geom, \\n        ST_Length(ST_Transform(geom, 3857)) AS length_of_multilinestring,\\n        ST_X(ST_StartPoint(ST_GeometryN(geom, 1))) AS start_lon,\\n        ST_Y(ST_StartPoint(ST_GeometryN(geom, 1))) AS start_lat,\\n        CASE\\n            WHEN ST_NumGeometries(geom) = 1 AND ST_NumPoints(ST_GeometryN(geom, 1)) > 1 THEN\\n                ST_X(ST_EndPoint(ST_GeometryN(geom, 1)))\\n            WHEN ST_NumGeometries(geom) > 1 THEN\\n                ST_X(ST_EndPoint(ST_GeometryN(geom, ST_NumGeometries(geom))))\\n            ELSE\\n                ST_X(ST_StartPoint(ST_GeometryN(geom, 1)))\\n        END AS end_lon,\\n        CASE\\n            WHEN ST_NumGeometries(geom) = 1 AND ST_NumPoints(ST_GeometryN(geom, 1)) > 1 THEN\\n                ST_Y(ST_EndPoint(ST_GeometryN(geom, 1)))\\n            WHEN ST_NumGeometries(geom) > 1 THEN\\n                ST_Y(ST_EndPoint(ST_GeometryN(geom, ST_NumGeometries(geom))))\\n            ELSE\\n                ST_Y(ST_StartPoint(ST_GeometryN(geom, 1)))\\n        END AS end_lat\\n    FROM \\n        tr_road_all\\n    ORDER BY \\n        ST_Distance(ST_ClosestPoint(geom, ST_SetSRID(ST_MakePoint(145.12310223093516,  -37.91131680842784), 7844)), ST_SetSRID(ST_MakePoint(145.12310223093516,  -37.91131680842784), 7844))\\n    LIMIT 1;\\n    '"
      ]
     },
     "execution_count": 50,
     "metadata": {},
     "output_type": "execute_result"
    }
   ],
   "source": [
    "query"
   ]
  },
  {
   "cell_type": "code",
   "execution_count": 51,
   "metadata": {},
   "outputs": [
    {
     "name": "stdout",
     "output_type": "stream",
     "text": [
      "[[(0, 0), (1, 0), (0, 0)], [(1, 0), (1, 1), (1, 0)], [(1, 1), (0, 1), (1, 1)], [(0, 1), (0, 0), (0, 1)], [(2, 2), (3, 2), (2, 2)], [(3, 2), (3, 3), (3, 2)], [(3, 3), (2, 3), (3, 3)], [(2, 3), (2, 2), (2, 3)]]\n"
     ]
    }
   ],
   "source": [
    "from collections import defaultdict\n",
    "\n",
    "def get_polygon_segments(segments):\n",
    "    # Create a dictionary to store segments by their start and end points\n",
    "    segment_dict = defaultdict(list)\n",
    "    \n",
    "    # Populate the dictionary\n",
    "    for segment in segments:\n",
    "        start, end = segment\n",
    "        segment_dict[start].append(end)\n",
    "        segment_dict[end].append(start)\n",
    "    \n",
    "    # Initialize a set to keep track of processed segments\n",
    "    processed_segments = set()\n",
    "    \n",
    "    # Initialize a list to store the polygons\n",
    "    polygons = []\n",
    "    \n",
    "    # Iterate over segments\n",
    "    for segment in segments:\n",
    "        if segment in processed_segments:\n",
    "            continue\n",
    "        \n",
    "        # Start a new polygon\n",
    "        polygon = [segment[0], segment[1]]\n",
    "        processed_segments.add(segment)\n",
    "        \n",
    "        # Explore connected segments to form the polygon\n",
    "        while True:\n",
    "            current_point = polygon[-1]\n",
    "            next_point_candidates = segment_dict[current_point]\n",
    "            \n",
    "            # Find the next point that hasn't been visited\n",
    "            next_point = None\n",
    "            for candidate in next_point_candidates:\n",
    "                if (current_point, candidate) not in processed_segments:\n",
    "                    next_point = candidate\n",
    "                    break\n",
    "            \n",
    "            if next_point is None:\n",
    "                break\n",
    "            \n",
    "            # Add the segment to the polygon\n",
    "            polygon.append(next_point)\n",
    "            processed_segments.add((current_point, next_point))\n",
    "            \n",
    "            # Check if the polygon is closed\n",
    "            if next_point == polygon[0]:\n",
    "                break\n",
    "        \n",
    "        # Add the completed polygon to the list\n",
    "        polygons.append(polygon)\n",
    "    \n",
    "    return polygons\n",
    "\n",
    "# Example usage\n",
    "segments = [((0, 0), (1, 0)), ((1, 0), (1, 1)), ((1, 1), (0, 1)), ((0, 1), (0, 0)), ((2, 2), (3, 2)), ((3, 2), (3, 3)), ((3, 3), (2, 3)), ((2, 3), (2, 2))]\n",
    "polygons = get_polygon_segments(segments)\n",
    "print(polygons)\n"
   ]
  },
  {
   "cell_type": "code",
   "execution_count": 34,
   "metadata": {},
   "outputs": [],
   "source": [
    "from shapely.wkt import loads\n",
    "k = loads(df['geom'][0])"
   ]
  },
  {
   "cell_type": "code",
   "execution_count": 37,
   "metadata": {},
   "outputs": [
    {
     "data": {
      "text/plain": [
       "[(145.12310854800012, -37.911575813999946),\n",
       " (145.12347844800001, -37.91120991199995),\n",
       " (145.12387210600002, -37.90911573999995)]"
      ]
     },
     "execution_count": 37,
     "metadata": {},
     "output_type": "execute_result"
    }
   ],
   "source": [
    "k.geoms[0].coords[:]"
   ]
  },
  {
   "cell_type": "code",
   "execution_count": 42,
   "metadata": {},
   "outputs": [
    {
     "data": {
      "text/plain": [
       "145.12387210600002"
      ]
     },
     "execution_count": 42,
     "metadata": {},
     "output_type": "execute_result"
    }
   ],
   "source": [
    "df['end_lon'][0]"
   ]
  }
 ],
 "metadata": {
  "kernelspec": {
   "display_name": "venv",
   "language": "python",
   "name": "python3"
  },
  "language_info": {
   "codemirror_mode": {
    "name": "ipython",
    "version": 3
   },
   "file_extension": ".py",
   "mimetype": "text/x-python",
   "name": "python",
   "nbconvert_exporter": "python",
   "pygments_lexer": "ipython3",
   "version": "3.12.2"
  }
 },
 "nbformat": 4,
 "nbformat_minor": 2
}
